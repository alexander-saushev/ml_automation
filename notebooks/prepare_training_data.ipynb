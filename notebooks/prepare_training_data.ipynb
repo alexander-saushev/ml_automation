{
 "cells": [
  {
   "cell_type": "markdown",
   "id": "cooked-enough",
   "metadata": {},
   "source": [
    "# Подготовка данных к обучению моделей"
   ]
  },
  {
   "cell_type": "markdown",
   "id": "aggregate-celebrity",
   "metadata": {},
   "source": [
    "## Импорт библиотек и задание констант"
   ]
  },
  {
   "cell_type": "code",
   "execution_count": 1,
   "id": "looking-gathering",
   "metadata": {},
   "outputs": [],
   "source": [
    "from pyspark.sql import SparkSession\n",
    "from pyspark.sql import functions as F"
   ]
  },
  {
   "cell_type": "code",
   "execution_count": 2,
   "id": "touched-enlargement",
   "metadata": {},
   "outputs": [],
   "source": [
    "TRAIN_SIZE = 0.8\n",
    "TEST_SIZE = 0.2\n",
    "\n",
    "TRAIN_PATH = 'train'\n",
    "TEST_PATH = 'test'"
   ]
  },
  {
   "cell_type": "code",
   "execution_count": 3,
   "id": "current-harvey",
   "metadata": {},
   "outputs": [
    {
     "data": {
      "text/html": [
       "\n",
       "            <div>\n",
       "                <p><b>SparkSession - in-memory</b></p>\n",
       "                \n",
       "        <div>\n",
       "            <p><b>SparkContext</b></p>\n",
       "\n",
       "            <p><a href=\"http://macbook-pro:4040\">Spark UI</a></p>\n",
       "\n",
       "            <dl>\n",
       "              <dt>Version</dt>\n",
       "                <dd><code>v3.3.0</code></dd>\n",
       "              <dt>Master</dt>\n",
       "                <dd><code>local[*]</code></dd>\n",
       "              <dt>AppName</dt>\n",
       "                <dd><code>PySparkJobNotebook</code></dd>\n",
       "            </dl>\n",
       "        </div>\n",
       "        \n",
       "            </div>\n",
       "        "
      ],
      "text/plain": [
       "<pyspark.sql.session.SparkSession at 0x7f9080e6da30>"
      ]
     },
     "execution_count": 3,
     "metadata": {},
     "output_type": "execute_result"
    }
   ],
   "source": [
    "spark = SparkSession.builder.appName('PySparkJobNotebook').getOrCreate()\n",
    "spark"
   ]
  },
  {
   "cell_type": "markdown",
   "id": "occupied-rocket",
   "metadata": {},
   "source": [
    "## Загрузка датафрейма"
   ]
  },
  {
   "cell_type": "markdown",
   "id": "single-bacon",
   "metadata": {},
   "source": [
    "Посмотрим на данные, которые у нас есть."
   ]
  },
  {
   "cell_type": "code",
   "execution_count": 5,
   "id": "indie-ordinance",
   "metadata": {},
   "outputs": [
    {
     "name": "stdout",
     "output_type": "stream",
     "text": [
      "+----------+-------------------+-----+--------+------+---------------+-----------------+------------+-------+---------+---------------------+\n",
      "|      date|               time|event|platform| ad_id|client_union_id|compaign_union_id|ad_cost_type|ad_cost|has_video|target_audience_count|\n",
      "+----------+-------------------+-----+--------+------+---------------+-----------------+------------+-------+---------+---------------------+\n",
      "|2019-04-01|2019-04-01 00:00:48| view| android| 45061|          34734|            45061|         CPM|  200.6|        0|              1955269|\n",
      "|2019-04-01|2019-04-01 00:00:48| view|     web|121288|         121288|           121288|         CPM|  187.4|        0|               232011|\n",
      "|2019-04-01|2019-04-01 00:01:03| view| android|102737|         102535|           102564|         CPC|   60.7|        0|                 4410|\n",
      "|2019-04-01|2019-04-01 00:01:03| view| android|107564|         106914|           107564|         CPM|  217.3|        0|                62711|\n",
      "|2019-04-01|2019-04-01 00:01:09| view| android|  4922|             37|             4400|         CPC|   60.1|        0|              1183501|\n",
      "+----------+-------------------+-----+--------+------+---------------+-----------------+------------+-------+---------+---------------------+\n",
      "only showing top 5 rows\n",
      "\n"
     ]
    }
   ],
   "source": [
    "df = spark.read.parquet('clickstream.parquet')\n",
    "df.show(5)"
   ]
  },
  {
   "cell_type": "code",
   "execution_count": 8,
   "id": "e1832e0d",
   "metadata": {},
   "outputs": [
    {
     "name": "stdout",
     "output_type": "stream",
     "text": [
      "+----------+------+\n",
      "|      date| count|\n",
      "+----------+------+\n",
      "|2019-04-01| 22073|\n",
      "|2019-04-02| 47117|\n",
      "|2019-04-03| 59483|\n",
      "|2019-04-04|275735|\n",
      "|2019-04-05|519707|\n",
      "|2019-04-06| 75885|\n",
      "+----------+------+\n",
      "\n"
     ]
    }
   ],
   "source": [
    "df.groupby('date').count().orderBy('date').show()"
   ]
  },
  {
   "cell_type": "markdown",
   "id": "confident-domain",
   "metadata": {},
   "source": [
    "## Схема требуемой таблицы"
   ]
  },
  {
   "cell_type": "markdown",
   "id": "paperback-uncertainty",
   "metadata": {},
   "source": [
    "* `ad_id` — id рекламного объявления\n",
    "* `target_audience_count` — размер аудитории, на которую таргетируется объявление\n",
    "* `has_video` — 1, если есть видео, иначе 0\n",
    "* `is_cpm` — 1, если тип объявления CPM, иначе 0\n",
    "* `is_cpc` — 1, если тип объявления CPC, иначе 0\n",
    "* `ad_cost` — стоимость объявления в рублях\n",
    "* `day_count` — число дней, которое показывалась реклама\n",
    "* `ctr` — отношение числа кликов к числу просмотров"
   ]
  },
  {
   "cell_type": "markdown",
   "id": "constitutional-arlington",
   "metadata": {},
   "source": [
    "## Признаки is_cpm и is_cpc"
   ]
  },
  {
   "cell_type": "code",
   "execution_count": 5,
   "id": "novel-match",
   "metadata": {},
   "outputs": [
    {
     "name": "stdout",
     "output_type": "stream",
     "text": [
      "+------+------------+------+\n",
      "| ad_id|ad_cost_type|is_cpm|\n",
      "+------+------------+------+\n",
      "| 45061|         CPM|     1|\n",
      "|121288|         CPM|     1|\n",
      "|102737|         CPC|     0|\n",
      "|107564|         CPM|     1|\n",
      "|  4922|         CPC|     0|\n",
      "+------+------------+------+\n",
      "only showing top 5 rows\n",
      "\n"
     ]
    }
   ],
   "source": [
    "ndf = df.withColumn('is_cpm', F.when(F.col('ad_cost_type') == 'CPM', 1).otherwise(0))\n",
    "ndf[['ad_id', 'ad_cost_type', 'is_cpm']].show(5)"
   ]
  },
  {
   "cell_type": "code",
   "execution_count": 6,
   "id": "afraid-friendly",
   "metadata": {},
   "outputs": [
    {
     "name": "stdout",
     "output_type": "stream",
     "text": [
      "+------+------------+------+------+\n",
      "| ad_id|ad_cost_type|is_cpm|is_cpc|\n",
      "+------+------------+------+------+\n",
      "| 45061|         CPM|     1|     0|\n",
      "|121288|         CPM|     1|     0|\n",
      "|102737|         CPC|     0|     1|\n",
      "|107564|         CPM|     1|     0|\n",
      "|  4922|         CPC|     0|     1|\n",
      "+------+------------+------+------+\n",
      "only showing top 5 rows\n",
      "\n"
     ]
    }
   ],
   "source": [
    "ndf = ndf.withColumn('is_cpc', F.when(F.col('ad_cost_type') == 'CPC', 1).otherwise(0))\n",
    "ndf[['ad_id', 'ad_cost_type', 'is_cpm', 'is_cpc']].show(5)"
   ]
  },
  {
   "cell_type": "markdown",
   "id": "violent-nutrition",
   "metadata": {},
   "source": [
    "## Вспомогательные признаки is_view и is_click"
   ]
  },
  {
   "cell_type": "markdown",
   "id": "fewer-australian",
   "metadata": {},
   "source": [
    "Чтобы посчитать CTR объявления, нам нужно найти число его просмотров и сколько кликов по нему было сделано. Для этого создадим булевы столбцы `is_view` и `is_click`. Тогда, когда мы сгруппируем данные по id объявлений, значения в этих столбцах можно будет сложить и получить нужные количество просмотров и кликов."
   ]
  },
  {
   "cell_type": "code",
   "execution_count": 7,
   "id": "explicit-semiconductor",
   "metadata": {},
   "outputs": [
    {
     "name": "stdout",
     "output_type": "stream",
     "text": [
      "+------+-----+-------+--------+\n",
      "| ad_id|event|is_view|is_click|\n",
      "+------+-----+-------+--------+\n",
      "| 45061| view|      1|       0|\n",
      "|121288| view|      1|       0|\n",
      "|102737| view|      1|       0|\n",
      "|107564| view|      1|       0|\n",
      "|  4922| view|      1|       0|\n",
      "| 10325| view|      1|       0|\n",
      "| 41458| view|      1|       0|\n",
      "| 45831| view|      1|       0|\n",
      "|101985| view|      1|       0|\n",
      "| 16589| view|      1|       0|\n",
      "+------+-----+-------+--------+\n",
      "only showing top 10 rows\n",
      "\n"
     ]
    }
   ],
   "source": [
    "ndf = (ndf.withColumn('is_view', F.when(F.col('event') == 'view', 1).otherwise(0))\n",
    "          .withColumn('is_click', F.when(F.col('event') == 'click', 1).otherwise(0)))\n",
    "\n",
    "ndf[['ad_id', 'event', 'is_view', 'is_click']].show(10)"
   ]
  },
  {
   "cell_type": "markdown",
   "id": "everyday-month",
   "metadata": {},
   "source": [
    "## Группировка по объявлениям"
   ]
  },
  {
   "cell_type": "code",
   "execution_count": 8,
   "id": "established-capability",
   "metadata": {},
   "outputs": [
    {
     "name": "stdout",
     "output_type": "stream",
     "text": [
      "+------+---------------------+---------+------+------+-------+-----------+------------+----------+\n",
      "| ad_id|target_audience_count|has_video|is_cpm|is_cpc|ad_cost|views_count|clicks_count|days_count|\n",
      "+------+---------------------+---------+------+------+-------+-----------+------------+----------+\n",
      "| 40515|                11533|        0|     1|     0|  214.8|        140|           4|         2|\n",
      "| 33412|                 7195|        0|     1|     0|  214.1|         35|           0|         2|\n",
      "| 47217|                 7121|        0|     1|     0|  225.6|         22|           1|         2|\n",
      "| 33602|              3277386|        0|     1|     0|  187.8|        480|           9|         2|\n",
      "|119169|                35019|        0|     1|     0|  202.6|        636|           5|         2|\n",
      "+------+---------------------+---------+------+------+-------+-----------+------------+----------+\n",
      "only showing top 5 rows\n",
      "\n"
     ]
    }
   ],
   "source": [
    "features = (ndf.groupBy('ad_id').agg(\n",
    "    F.max(F.col('target_audience_count')).alias('target_audience_count'),\n",
    "    F.max(F.col('has_video')).alias('has_video'),\n",
    "    F.max(F.col('is_cpm')).alias('is_cpm'),\n",
    "    F.max(F.col('is_cpc')).alias('is_cpc'),\n",
    "    F.max(F.col('ad_cost')).alias('ad_cost'),\n",
    "    F.sum(F.col('is_view')).alias('views_count'), # Суммируя, получим число просмотров.\n",
    "    F.sum(F.col('is_click')).alias('clicks_count'), # Суммируя, получим число кликов.\n",
    "    F.countDistinct(F.col('date')).alias('days_count')))\n",
    "\n",
    "features.show(5)"
   ]
  },
  {
   "cell_type": "markdown",
   "id": "extra-montana",
   "metadata": {},
   "source": [
    "## Расчет CTR"
   ]
  },
  {
   "cell_type": "code",
   "execution_count": 9,
   "id": "tropical-dining",
   "metadata": {},
   "outputs": [
    {
     "name": "stdout",
     "output_type": "stream",
     "text": [
      "+------+---------------------+---------+------+------+-------+-----------+------------+----------+--------------------+\n",
      "| ad_id|target_audience_count|has_video|is_cpm|is_cpc|ad_cost|views_count|clicks_count|days_count|                 ctr|\n",
      "+------+---------------------+---------+------+------+-------+-----------+------------+----------+--------------------+\n",
      "| 40515|                11533|        0|     1|     0|  214.8|        140|           4|         2| 0.02857142857142857|\n",
      "| 33412|                 7195|        0|     1|     0|  214.1|         35|           0|         2|                 0.0|\n",
      "| 47217|                 7121|        0|     1|     0|  225.6|         22|           1|         2|0.045454545454545456|\n",
      "| 33602|              3277386|        0|     1|     0|  187.8|        480|           9|         2|             0.01875|\n",
      "|119169|                35019|        0|     1|     0|  202.6|        636|           5|         2|0.007861635220125786|\n",
      "+------+---------------------+---------+------+------+-------+-----------+------------+----------+--------------------+\n",
      "only showing top 5 rows\n",
      "\n"
     ]
    }
   ],
   "source": [
    "features = features.withColumn('ctr', F.col('clicks_count') / F.col('views_count'))\n",
    "features.show(5)"
   ]
  },
  {
   "cell_type": "markdown",
   "id": "hundred-lodge",
   "metadata": {},
   "source": [
    "Избавимся от лишних столбцов `views_count` и `clicks_count`"
   ]
  },
  {
   "cell_type": "code",
   "execution_count": 10,
   "id": "placed-tunisia",
   "metadata": {},
   "outputs": [
    {
     "name": "stdout",
     "output_type": "stream",
     "text": [
      "+------+---------------------+---------+------+------+-------+----------+--------------------+\n",
      "| ad_id|target_audience_count|has_video|is_cpm|is_cpc|ad_cost|days_count|                 ctr|\n",
      "+------+---------------------+---------+------+------+-------+----------+--------------------+\n",
      "| 40515|                11533|        0|     1|     0|  214.8|         2| 0.02857142857142857|\n",
      "| 33412|                 7195|        0|     1|     0|  214.1|         2|                 0.0|\n",
      "| 47217|                 7121|        0|     1|     0|  225.6|         2|0.045454545454545456|\n",
      "| 33602|              3277386|        0|     1|     0|  187.8|         2|             0.01875|\n",
      "|119169|                35019|        0|     1|     0|  202.6|         2|0.007861635220125786|\n",
      "+------+---------------------+---------+------+------+-------+----------+--------------------+\n",
      "only showing top 5 rows\n",
      "\n"
     ]
    }
   ],
   "source": [
    "features = features.drop('views_count', 'clicks_count')\n",
    "features.show(5)"
   ]
  },
  {
   "cell_type": "markdown",
   "id": "hydraulic-canal",
   "metadata": {},
   "source": [
    "## Разбивка на трейн- и тест-выборки и выгрузка датафреймов"
   ]
  },
  {
   "cell_type": "markdown",
   "id": "absolute-nickel",
   "metadata": {},
   "source": [
    "Разбиваем данные на обучающую и тестовую выборки в заранее заданном соотношении."
   ]
  },
  {
   "cell_type": "code",
   "execution_count": 11,
   "id": "effective-fleet",
   "metadata": {},
   "outputs": [],
   "source": [
    "train_df, test_df = features.randomSplit([TRAIN_SIZE, TEST_SIZE])"
   ]
  },
  {
   "cell_type": "markdown",
   "id": "waiting-result",
   "metadata": {},
   "source": [
    "Сохраняем получившиеся выборки в соответсвующие папки."
   ]
  },
  {
   "cell_type": "code",
   "execution_count": 12,
   "id": "exotic-extra",
   "metadata": {},
   "outputs": [],
   "source": [
    "train_df.coalesce(1).write.parquet(TRAIN_PATH)\n",
    "test_df.coalesce(1).write.parquet(TEST_PATH)"
   ]
  }
 ],
 "metadata": {
  "kernelspec": {
   "display_name": "Python 3 (ipykernel)",
   "language": "python",
   "name": "python3"
  },
  "language_info": {
   "codemirror_mode": {
    "name": "ipython",
    "version": 3
   },
   "file_extension": ".py",
   "mimetype": "text/x-python",
   "name": "python",
   "nbconvert_exporter": "python",
   "pygments_lexer": "ipython3",
   "version": "3.9.12"
  },
  "toc": {
   "base_numbering": 1,
   "nav_menu": {},
   "number_sections": false,
   "sideBar": true,
   "skip_h1_title": true,
   "title_cell": "Table of Contents",
   "title_sidebar": "Contents",
   "toc_cell": false,
   "toc_position": {},
   "toc_section_display": true,
   "toc_window_display": true
  }
 },
 "nbformat": 4,
 "nbformat_minor": 5
}
