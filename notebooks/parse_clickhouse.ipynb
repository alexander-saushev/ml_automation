{
 "cells": [
  {
   "cell_type": "markdown",
   "id": "34f89788",
   "metadata": {},
   "source": [
    "# Парсинг таблицы из Кликхауса"
   ]
  },
  {
   "cell_type": "markdown",
   "id": "b912efe4",
   "metadata": {},
   "source": [
    "## Импорт библиотек и задание констант"
   ]
  },
  {
   "cell_type": "code",
   "execution_count": 1,
   "id": "0fe7aebb",
   "metadata": {},
   "outputs": [],
   "source": [
    "from pyspark.sql import SparkSession"
   ]
  },
  {
   "cell_type": "code",
   "execution_count": 2,
   "id": "c6828a83",
   "metadata": {},
   "outputs": [],
   "source": [
    "JAR_DIR = 'jars/clickhouse-jdbc-0.3.1.jar'"
   ]
  },
  {
   "cell_type": "code",
   "execution_count": 3,
   "id": "3b921992",
   "metadata": {},
   "outputs": [],
   "source": [
    "spark = SparkSession.builder \\\n",
    "    .config('spark.driver.extraClassPath', JAR_DIR) \\\n",
    "    .appName('ParseClickhousePySparkJob') \\\n",
    "    .getOrCreate()"
   ]
  },
  {
   "cell_type": "code",
   "execution_count": 4,
   "id": "835e9c98",
   "metadata": {},
   "outputs": [
    {
     "data": {
      "text/html": [
       "\n",
       "            <div>\n",
       "                <p><b>SparkSession - in-memory</b></p>\n",
       "                \n",
       "        <div>\n",
       "            <p><b>SparkContext</b></p>\n",
       "\n",
       "            <p><a href=\"http://macbook-pro:4040\">Spark UI</a></p>\n",
       "\n",
       "            <dl>\n",
       "              <dt>Version</dt>\n",
       "                <dd><code>v3.3.0</code></dd>\n",
       "              <dt>Master</dt>\n",
       "                <dd><code>local[*]</code></dd>\n",
       "              <dt>AppName</dt>\n",
       "                <dd><code>ParseClickhousePySparkJob</code></dd>\n",
       "            </dl>\n",
       "        </div>\n",
       "        \n",
       "            </div>\n",
       "        "
      ],
      "text/plain": [
       "<pyspark.sql.session.SparkSession at 0x7fd996faa130>"
      ]
     },
     "execution_count": 4,
     "metadata": {},
     "output_type": "execute_result"
    }
   ],
   "source": [
    "spark"
   ]
  },
  {
   "cell_type": "markdown",
   "id": "5db5e8b7",
   "metadata": {},
   "source": [
    "## Подключение к Кликхаусу"
   ]
  },
  {
   "cell_type": "code",
   "execution_count": 5,
   "id": "308f3cf3",
   "metadata": {},
   "outputs": [],
   "source": [
    "query = '(SELECT * FROM ads_data LIMIT 5)'"
   ]
  },
  {
   "cell_type": "code",
   "execution_count": 6,
   "id": "9a5caea7",
   "metadata": {},
   "outputs": [],
   "source": [
    "df = spark.read \\\n",
    "    .format('jdbc') \\\n",
    "    .option(\"url\", \"jdbc:clickhouse://ds1.int.stepik.org:9010\") \\\n",
    "    .option('dbtable', query) \\\n",
    "    .option(\"user\", \"readonly\") \\\n",
    "    .option(\"password\", \"9be2980b6c1647c7998d1462af87c585\") \\\n",
    "    .load()"
   ]
  },
  {
   "cell_type": "code",
   "execution_count": 7,
   "id": "0fb68074",
   "metadata": {},
   "outputs": [
    {
     "name": "stdout",
     "output_type": "stream",
     "text": [
      "+----------+-------------------+-----+--------+------+---------------+-----------------+------------+-------+---------+---------------------+\n",
      "|      date|               time|event|platform| ad_id|client_union_id|campaign_union_id|ad_cost_type|ad_cost|has_video|target_audience_count|\n",
      "+----------+-------------------+-----+--------+------+---------------+-----------------+------------+-------+---------+---------------------+\n",
      "|2019-04-01|2019-04-01 03:00:48| view| android| 45061|          34734|            45061|         CPM|  200.6|        0|              1955269|\n",
      "|2019-04-01|2019-04-01 03:00:48| view|     web|121288|         121288|           121288|         CPM|  187.4|        0|               232011|\n",
      "|2019-04-01|2019-04-01 03:01:03| view| android|102737|         102535|           102564|         CPC|   60.7|        0|                 4410|\n",
      "|2019-04-01|2019-04-01 03:01:03| view| android|107564|         106914|           107564|         CPM|  217.3|        0|                62711|\n",
      "|2019-04-01|2019-04-01 03:01:09| view| android|  4922|             37|             4400|         CPC|   60.1|        0|              1183501|\n",
      "+----------+-------------------+-----+--------+------+---------------+-----------------+------------+-------+---------+---------------------+\n",
      "\n"
     ]
    }
   ],
   "source": [
    "df.show()"
   ]
  },
  {
   "cell_type": "markdown",
   "id": "71ef041e",
   "metadata": {},
   "source": [
    "## Сохранение данных"
   ]
  },
  {
   "cell_type": "code",
   "execution_count": 8,
   "id": "9f6372fe",
   "metadata": {},
   "outputs": [],
   "source": [
    "df.write.parquet('parsed_df')"
   ]
  }
 ],
 "metadata": {
  "kernelspec": {
   "display_name": "Python 3 (ipykernel)",
   "language": "python",
   "name": "python3"
  },
  "language_info": {
   "codemirror_mode": {
    "name": "ipython",
    "version": 3
   },
   "file_extension": ".py",
   "mimetype": "text/x-python",
   "name": "python",
   "nbconvert_exporter": "python",
   "pygments_lexer": "ipython3",
   "version": "3.9.12"
  },
  "toc": {
   "base_numbering": 1,
   "nav_menu": {},
   "number_sections": false,
   "sideBar": true,
   "skip_h1_title": true,
   "title_cell": "Table of Contents",
   "title_sidebar": "Contents",
   "toc_cell": false,
   "toc_position": {},
   "toc_section_display": true,
   "toc_window_display": true
  }
 },
 "nbformat": 4,
 "nbformat_minor": 5
}
