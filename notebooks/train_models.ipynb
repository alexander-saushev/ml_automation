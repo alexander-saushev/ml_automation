{
 "cells": [
  {
   "cell_type": "markdown",
   "metadata": {},
   "source": [
    "# Обучение моделей"
   ]
  },
  {
   "cell_type": "markdown",
   "metadata": {},
   "source": [
    "## Загрузка библиотек"
   ]
  },
  {
   "cell_type": "code",
   "execution_count": 1,
   "metadata": {},
   "outputs": [],
   "source": [
    "from pyspark.sql import SparkSession\n",
    "from pyspark.ml import Pipeline\n",
    "\n",
    "from pyspark.ml.feature import VectorAssembler\n",
    "\n",
    "from pyspark.ml.evaluation import RegressionEvaluator\n",
    "from pyspark.ml.tuning import ParamGridBuilder, CrossValidator\n",
    "\n",
    "from pyspark.ml.regression import DecisionTreeRegressor\n",
    "from pyspark.ml.regression import RandomForestRegressor\n",
    "from pyspark.ml.regression import GBTRegressor"
   ]
  },
  {
   "cell_type": "code",
   "execution_count": 2,
   "metadata": {},
   "outputs": [],
   "source": [
    "spark = SparkSession.builder.appName(\"PySparkML\").getOrCreate()"
   ]
  },
  {
   "cell_type": "code",
   "execution_count": 3,
   "metadata": {},
   "outputs": [
    {
     "data": {
      "text/html": [
       "\n",
       "            <div>\n",
       "                <p><b>SparkSession - in-memory</b></p>\n",
       "                \n",
       "        <div>\n",
       "            <p><b>SparkContext</b></p>\n",
       "\n",
       "            <p><a href=\"http://macbook-pro:4042\">Spark UI</a></p>\n",
       "\n",
       "            <dl>\n",
       "              <dt>Version</dt>\n",
       "                <dd><code>v3.3.0</code></dd>\n",
       "              <dt>Master</dt>\n",
       "                <dd><code>local[*]</code></dd>\n",
       "              <dt>AppName</dt>\n",
       "                <dd><code>PySparkML</code></dd>\n",
       "            </dl>\n",
       "        </div>\n",
       "        \n",
       "            </div>\n",
       "        "
      ],
      "text/plain": [
       "<pyspark.sql.session.SparkSession at 0x7fb176c0f9a0>"
      ]
     },
     "execution_count": 3,
     "metadata": {},
     "output_type": "execute_result"
    }
   ],
   "source": [
    "spark"
   ]
  },
  {
   "cell_type": "markdown",
   "metadata": {},
   "source": [
    "## Загрузка данных"
   ]
  },
  {
   "cell_type": "code",
   "execution_count": 5,
   "metadata": {},
   "outputs": [],
   "source": [
    "train_data = spark.read.parquet('train.parquet')\n",
    "test_data = spark.read.parquet('test.parquet')"
   ]
  },
  {
   "cell_type": "code",
   "execution_count": 6,
   "metadata": {},
   "outputs": [
    {
     "name": "stdout",
     "output_type": "stream",
     "text": [
      "+-----+---------------------+---------+------+------+----------------+---------+-----------------+\n",
      "|ad_id|target_audience_count|has_video|is_cpm|is_cpc|         ad_cost|day_count|              ctr|\n",
      "+-----+---------------------+---------+------+------+----------------+---------+-----------------+\n",
      "|    1|     10707.2440058622|        1|     1|     0|201.829292651124|       15|0.431740082807281|\n",
      "|    5|     10643.3872649482|        1|     1|     0|192.577221699704|       15|0.809264519216201|\n",
      "|    6|     11418.7085911347|        1|     1|     0|204.104562956739|       11|0.909738306804039|\n",
      "|    7|     10109.3278687796|        1|     1|     0|194.255798599684|       12|0.941221039774456|\n",
      "|    8|     10665.1119991977|        1|     1|     0|202.658042557742|       14|0.986790019690954|\n",
      "+-----+---------------------+---------+------+------+----------------+---------+-----------------+\n",
      "only showing top 5 rows\n",
      "\n"
     ]
    }
   ],
   "source": [
    "train_data.show(5)"
   ]
  },
  {
   "cell_type": "markdown",
   "metadata": {},
   "source": [
    "## Пайпланы"
   ]
  },
  {
   "cell_type": "markdown",
   "metadata": {},
   "source": [
    "Подготовка общих частей пайпланов."
   ]
  },
  {
   "cell_type": "code",
   "execution_count": 7,
   "metadata": {},
   "outputs": [],
   "source": [
    "feature_cols = list(set(train_data.columns) - {'ad_id', 'ctr'})\n",
    "features = VectorAssembler(inputCols=feature_cols, outputCol='features')\n",
    "\n",
    "evaluator = RegressionEvaluator(labelCol='ctr', predictionCol='prediction', metricName='rmse')"
   ]
  },
  {
   "cell_type": "markdown",
   "metadata": {},
   "source": [
    "### Дерево решений"
   ]
  },
  {
   "cell_type": "code",
   "execution_count": 13,
   "metadata": {},
   "outputs": [
    {
     "name": "stdout",
     "output_type": "stream",
     "text": [
      "CPU times: user 324 ms, sys: 98.9 ms, total: 423 ms\n",
      "Wall time: 10.1 s\n"
     ]
    }
   ],
   "source": [
    "%%time\n",
    "\n",
    "dt = DecisionTreeRegressor(featuresCol='features',\n",
    "                           labelCol='ctr',\n",
    "                           predictionCol='prediction',\n",
    "                           seed=42)\n",
    "\n",
    "dt_grid = (ParamGridBuilder()\n",
    "           .addGrid(dt.maxDepth, range(4, 11, 2))\n",
    "           .build())\n",
    "\n",
    "dt_cv = CrossValidator(estimator=dt,\n",
    "                       estimatorParamMaps=dt_grid,\n",
    "                       evaluator=evaluator,\n",
    "                       numFolds=3)\n",
    "\n",
    "dt_pipeline = Pipeline(stages=[features, dt_cv]).fit(train_data)"
   ]
  },
  {
   "cell_type": "code",
   "execution_count": 9,
   "metadata": {},
   "outputs": [
    {
     "name": "stdout",
     "output_type": "stream",
     "text": [
      "RMSE дерева решений: 0.25441025590338934\n"
     ]
    }
   ],
   "source": [
    "dt_pred = dt_pipeline.transform(test_data)\n",
    "dt_rmse = evaluator.evaluate(dt_pred)\n",
    "\n",
    "print('RMSE дерева решений:', dt_rmse)"
   ]
  },
  {
   "cell_type": "markdown",
   "metadata": {},
   "source": [
    "### Случайный лес"
   ]
  },
  {
   "cell_type": "code",
   "execution_count": 12,
   "metadata": {},
   "outputs": [
    {
     "name": "stdout",
     "output_type": "stream",
     "text": [
      "CPU times: user 737 ms, sys: 212 ms, total: 949 ms\n",
      "Wall time: 32.5 s\n"
     ]
    }
   ],
   "source": [
    "%%time\n",
    "\n",
    "rf = RandomForestRegressor(featuresCol='features',\n",
    "                           labelCol='ctr',\n",
    "                           predictionCol='prediction',\n",
    "                           seed=42)\n",
    "\n",
    "rf_grid = (ParamGridBuilder()\n",
    "           .addGrid(rf.maxDepth, range(4, 11, 2))\n",
    "           .addGrid(rf.numTrees, range(1, 21, 10))\n",
    "           .build())\n",
    "\n",
    "rf_cv = CrossValidator(estimator=rf,\n",
    "                       estimatorParamMaps=rf_grid,\n",
    "                       evaluator=evaluator,\n",
    "                       numFolds=3)\n",
    "\n",
    "rf_pipeline = Pipeline(stages=[features, rf_cv]).fit(train_data)"
   ]
  },
  {
   "cell_type": "code",
   "execution_count": 10,
   "metadata": {},
   "outputs": [
    {
     "name": "stdout",
     "output_type": "stream",
     "text": [
      "RMSE случайного леса: 0.2554683186368623\n"
     ]
    }
   ],
   "source": [
    "rf_pred = rf_pipeline.transform(test_data)\n",
    "rf_rmse = evaluator.evaluate(rf_pred)\n",
    "\n",
    "print('RMSE случайного леса:', rf_rmse)"
   ]
  },
  {
   "cell_type": "markdown",
   "metadata": {},
   "source": [
    "### Градиентный бустинг"
   ]
  },
  {
   "cell_type": "code",
   "execution_count": 11,
   "metadata": {},
   "outputs": [
    {
     "name": "stdout",
     "output_type": "stream",
     "text": [
      "CPU times: user 276 ms, sys: 87 ms, total: 363 ms\n",
      "Wall time: 1min 43s\n"
     ]
    }
   ],
   "source": [
    "%%time\n",
    "\n",
    "gbt = GBTRegressor(featuresCol='features',\n",
    "                   labelCol='ctr',\n",
    "                   predictionCol='prediction')\n",
    "\n",
    "gbt_grid = (ParamGridBuilder()\n",
    "            .addGrid(gbt.maxDepth, range(2, 11, 4))\n",
    "            .addGrid(gbt.stepSize, [0.1])\n",
    "            .build())\n",
    "\n",
    "gbt_cv = CrossValidator(estimator=gbt,\n",
    "                        estimatorParamMaps=gbt_grid,\n",
    "                        evaluator=evaluator,\n",
    "                        numFolds=3)\n",
    "\n",
    "gbt_pipeline = Pipeline(stages=[features, gbt_cv]).fit(train_data)"
   ]
  },
  {
   "cell_type": "code",
   "execution_count": 12,
   "metadata": {},
   "outputs": [
    {
     "name": "stdout",
     "output_type": "stream",
     "text": [
      "RMSE случайного леса: 0.2543837508625071\n"
     ]
    }
   ],
   "source": [
    "gbt_pred = gbt_pipeline.transform(test_data)\n",
    "gbt_rmse = evaluator.evaluate(gbt_pred)\n",
    "\n",
    "print('RMSE случайного леса:', gbt_rmse)"
   ]
  }
 ],
 "metadata": {
  "kernelspec": {
   "display_name": "Python 3 (ipykernel)",
   "language": "python",
   "name": "python3"
  },
  "language_info": {
   "codemirror_mode": {
    "name": "ipython",
    "version": 3
   },
   "file_extension": ".py",
   "mimetype": "text/x-python",
   "name": "python",
   "nbconvert_exporter": "python",
   "pygments_lexer": "ipython3",
   "version": "3.9.12"
  },
  "toc": {
   "base_numbering": 1,
   "nav_menu": {},
   "number_sections": false,
   "sideBar": true,
   "skip_h1_title": true,
   "title_cell": "Содержание",
   "title_sidebar": "Содержание",
   "toc_cell": false,
   "toc_position": {
    "height": "calc(100% - 180px)",
    "left": "10px",
    "top": "150px",
    "width": "217px"
   },
   "toc_section_display": true,
   "toc_window_display": true
  }
 },
 "nbformat": 4,
 "nbformat_minor": 4
}
